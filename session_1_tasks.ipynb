{
  "nbformat": 4,
  "nbformat_minor": 0,
  "metadata": {
    "colab": {
      "provenance": []
    },
    "kernelspec": {
      "name": "python3",
      "display_name": "Python 3"
    },
    "language_info": {
      "name": "python"
    }
  },
  "cells": [
    {
      "cell_type": "markdown",
      "source": [
        "# Task : Session 1\n",
        "Solve these questions own your own and try to test yourself what you have learned in the session.\n",
        "\n",
        "Happy Learning!"
      ],
      "metadata": {
        "id": "A05OG15VqOPF"
      }
    },
    {
      "cell_type": "markdown",
      "source": [
        "### Q1 :- Print the given strings as per stated format.\n",
        "\n",
        "**Given strings**:\n",
        "```\n",
        "\"Data\" \"Science\" \"Mentorship\" \"Program\"\n",
        "\"By\" \"CampusX\"\n",
        "```\n",
        "**Output**:\n",
        "```\n",
        "Data-Science-Mentorship-Program-started-By-CampusX\n",
        "```\n",
        "\n",
        "Concept- [Seperator and End]"
      ],
      "metadata": {
        "id": "2doIXf8bqe9_"
      }
    },
    {
      "cell_type": "code",
      "source": [
        "print('Data','Science','Mentorship','Program','By','CampuX',sep='-')"
      ],
      "metadata": {
        "id": "rxE0_BWI9m7Y",
        "outputId": "a9d8bfe1-618b-4788-8533-052a6d029ab8",
        "colab": {
          "base_uri": "https://localhost:8080/"
        }
      },
      "execution_count": 1,
      "outputs": [
        {
          "output_type": "stream",
          "name": "stdout",
          "text": [
            "Data-Science-Mentorship-Program-By-CampuX\n"
          ]
        }
      ]
    },
    {
      "cell_type": "code",
      "source": [
        "# Write your code here"
      ],
      "metadata": {
        "id": "-em6d3KErDtp"
      },
      "execution_count": 2,
      "outputs": []
    },
    {
      "cell_type": "markdown",
      "source": [
        "### Q2:- Write a program that will convert celsius value to fahrenheit."
      ],
      "metadata": {
        "id": "1KUpN7ZTrC3_"
      }
    },
    {
      "cell_type": "code",
      "source": [
        "# Write your code here\n",
        "# I'm converting the both farenhite to celcius and celcius to farehite to\n",
        "#1st celcius to fahrenhite\n",
        "def cel_to_far():\n",
        "  cel = int(input(\"enter the temperature in the celcius that you want to convert into the farehite\"))\n",
        "  far = (cel*(9/5)) +32\n",
        "  print(f\"the tempearture in the farhenite : {far}\")\n",
        "def fer_to_cal():\n",
        "  far = int(input(\"Enter the temperature in farenhite that you want to convert into the celcius\"))\n",
        "  cel = (far -32) / (9/5)\n",
        "  print(f\"the tempearature in the  celcius is: {cel}\")\n",
        "\n",
        "print(f\"If you want to convert the temperature in celcius to farehnite the press: {button}1 \\nIf you want to convert it into the farenhite to celcius then press :{button}2 \")\n",
        "button =int(input(\"Enter the button\"))\n",
        "if button ==1:\n",
        "  cel_to_far()\n",
        "elif button ==2:\n",
        "  fer_to_cal()\n",
        "else:\n",
        "  print(\"are babauji sahi button press kariye bhaisab kya kar rahe\")\n"
      ],
      "metadata": {
        "id": "yxKYhYQiqWfj",
        "outputId": "542838ed-43b5-496e-939e-8a7ce11ddfc2",
        "colab": {
          "base_uri": "https://localhost:8080/"
        }
      },
      "execution_count": 33,
      "outputs": [
        {
          "output_type": "stream",
          "name": "stdout",
          "text": [
            "If you want to convert the temperature in celcius to farehnite the press: 11 \n",
            "If you want to convert it into the farenhite to celcius then press :12 \n",
            "Enter the button2\n",
            "Enter the temperature in farenhite that you want to convert into the celcius89\n",
            "the tempearature in the  celcius is: 31.666666666666664\n"
          ]
        }
      ]
    },
    {
      "cell_type": "markdown",
      "source": [
        "### Q3:- Take 2 numbers as input from the user.Write a program to swap the numbers without using any special python syntax."
      ],
      "metadata": {
        "id": "RLrOBBJurLB2"
      }
    },
    {
      "cell_type": "code",
      "source": [
        "# Write your code here\n",
        "# program to swap two numbers\n",
        "num1 = int(input(\"Enter the first number\"))\n",
        "num2 = int(input(\"Enter the second number\"))\n",
        "num1 = num1+num2\n",
        "num2 = num1-num2\n",
        "num1 = num1-num2\n",
        "print(f\"the values after swapping is, the number1 is {num1} and the number2 is{num2}\")"
      ],
      "metadata": {
        "id": "yPn7if0TrJ4F",
        "outputId": "ca8eb5cf-0a24-45e6-bc29-26249eb1b116",
        "colab": {
          "base_uri": "https://localhost:8080/"
        }
      },
      "execution_count": 34,
      "outputs": [
        {
          "output_type": "stream",
          "name": "stdout",
          "text": [
            "Enter the first number25\n",
            "Enter the second number85\n",
            "the values after swapping is, the number1 is 85 and the number2 is25\n"
          ]
        }
      ]
    },
    {
      "cell_type": "markdown",
      "source": [
        "### Q4:- Write a program to find the euclidean distance between two coordinates.Take both the coordinates from the user as input."
      ],
      "metadata": {
        "id": "waLCP1bjr7ML"
      }
    },
    {
      "cell_type": "code",
      "source": [
        "import math"
      ],
      "metadata": {
        "id": "TNWlzVcVFExq"
      },
      "execution_count": 40,
      "outputs": []
    },
    {
      "cell_type": "code",
      "source": [
        "5# Write your code here\n",
        "def calculate_euc_distance():\n",
        "  diff_X = (x2-x1)**2\n",
        "  diff_Y = (y2-y1)**2\n",
        "  euclidian_distance = math.sqrt(diff_X+diff_Y)\n",
        "  print(f\"the eucledian distance betweent the points are: {euclidian_distance}\")\n",
        "\n",
        "\n",
        "x1 = int(input(\"Enter the value of the x1 coordinate: \"))\n",
        "x2 = int(input(\"Enter the value of the x2 coordinate: \"))\n",
        "y1 = int(input(\"Enter the value of the y1 coordinate: \"))\n",
        "y2 = int(input(\"Enter the value of the y2 coordinate: \"))\n",
        "calculate_euc_distance()\n"
      ],
      "metadata": {
        "id": "Pl1Sv-xnrxnH",
        "outputId": "57c800de-f2a1-423c-d7a7-9811d740a0bd",
        "colab": {
          "base_uri": "https://localhost:8080/"
        }
      },
      "execution_count": 43,
      "outputs": [
        {
          "output_type": "stream",
          "name": "stdout",
          "text": [
            "Enter the value of the x1 coordinate: 45\n",
            "Enter the value of the x2 coordinate: 56\n",
            "Enter the value of the y1 coordinate: 78\n",
            "Enter the value of the y2 coordinate: 89\n",
            "the eucledian distance betweent the points are: 15.556349186104045\n"
          ]
        }
      ]
    },
    {
      "cell_type": "markdown",
      "source": [
        "### Q5:- Write a program to find the simple interest when the value of principle,rate of interest and time period is provided by the user.\n"
      ],
      "metadata": {
        "id": "VLrhg-FRsHjR"
      }
    },
    {
      "cell_type": "code",
      "source": [
        "# Write your code here\n",
        "#caluclate the  SI\n",
        "pI = int(input(\"Enter the principal interset is : \"))\n",
        "time = int(input(\"Enter the time\"))\n",
        "r = int(input(\"enter the rate of interest is: \"))\n",
        "SI = (pI*r*time)*100\n",
        "print(f\"enter the simple interest is {SI}\")"
      ],
      "metadata": {
        "id": "s40DlReZsTmY",
        "outputId": "4c011af4-b6ca-4aba-d6ac-2f12c9ef4b7e",
        "colab": {
          "base_uri": "https://localhost:8080/"
        }
      },
      "execution_count": 45,
      "outputs": [
        {
          "output_type": "stream",
          "name": "stdout",
          "text": [
            "Enter the principal interset is : 5000\n",
            "Enter the time5\n",
            "enter the rate of interest is: 4\n",
            "enter the simple interest is 10000000\n"
          ]
        }
      ]
    },
    {
      "cell_type": "markdown",
      "source": [
        "### Q6:- Write a program that will tell the number of dogs and chicken are there when the user will provide the value of total heads and legs.\n",
        "\n",
        "For example:\n",
        "Input:\n",
        "heads -> 4\n",
        "legs -> 12\n",
        "<br>\n",
        "Output:\n",
        "dogs -> 2\n",
        "chicken -> 2\n",
        "\n",
        "\n",
        "\n"
      ],
      "metadata": {
        "id": "LMy0BTUktYKa"
      }
    },
    {
      "cell_type": "code",
      "source": [
        "# Write your code here\n",
        "head = int(input(\"Enter the number of head are there : \"))\n",
        "legs = int(input(\"Enter the number of the legs are there: \"))\n",
        "if"
      ],
      "metadata": {
        "id": "XSBvJoA4tXaG"
      },
      "execution_count": 7,
      "outputs": []
    },
    {
      "cell_type": "markdown",
      "source": [
        "### Q7:- Write a program to find the sum of squares of first n natural numbers where n will be provided by the user."
      ],
      "metadata": {
        "id": "gJ7C5kZYt4BP"
      }
    },
    {
      "cell_type": "code",
      "source": [
        "# Write your code here\n",
        "n = int(input(\"Enter the numbers of which you want to find the sum of: \"))\n",
        "sum =0\n",
        "for i in range(n):\n",
        "  sum = sum+i\n",
        "print(f\"the sum of the n given number is: {sum}\")"
      ],
      "metadata": {
        "id": "_tHsmEHzt2nX",
        "outputId": "be3734fa-2e16-458b-a844-b4140dcd625a",
        "colab": {
          "base_uri": "https://localhost:8080/"
        }
      },
      "execution_count": 49,
      "outputs": [
        {
          "output_type": "stream",
          "name": "stdout",
          "text": [
            "Enter the numbers of which you want to find the sum of: 45\n",
            "the sum of the n given number is: 990\n"
          ]
        }
      ]
    },
    {
      "cell_type": "markdown",
      "source": [
        "### Q8:- Given the first 2 terms of an Arithmetic Series.Find the Nth term of the series. Assume all inputs are provided by the user."
      ],
      "metadata": {
        "id": "FHrMM7g-yG1h"
      }
    },
    {
      "cell_type": "code",
      "source": [
        "# Write your code here\n",
        "Ap = [24,45,]\n",
        "n = int(input(\"Enter the nth term: \"))\n",
        "# if the two terms are given then find the nth term of the series\n",
        "d = Ap[1]-Ap[0]\n",
        "An = Ap[0]+(n-1)*d\n",
        "print(f'the value of the nth term is {An}')\n"
      ],
      "metadata": {
        "id": "go4_kmZmyVSx",
        "outputId": "43a7462c-02ff-4a00-f2dc-960b92ea7c50",
        "colab": {
          "base_uri": "https://localhost:8080/"
        }
      },
      "execution_count": 53,
      "outputs": [
        {
          "output_type": "stream",
          "name": "stdout",
          "text": [
            "Enter the nth term: 12\n",
            "the value of the nth term is 255\n"
          ]
        }
      ]
    },
    {
      "cell_type": "markdown",
      "source": [
        "### Q9:- Given 2 fractions, find the sum of those 2 fractions.Take the numerator and denominator values of the fractions from the user."
      ],
      "metadata": {
        "id": "QgyRX_es1oum"
      }
    },
    {
      "cell_type": "code",
      "source": [
        "num1 = int(input(\"Enter the numerator of the first fraction\"))\n",
        "den1 = int(input(\"Enter the denominator of the first fraction\"))\n",
        "num2 = int(input(\"Enter the numerator of the second fraction\"))\n",
        "den2 = int(input(\"Enter the denominator of the second fraction\"))\n",
        "\n",
        "sum = ((num1*den2) + (num2*den1))/(den1*den2)\n",
        "print(sum)\n"
      ],
      "metadata": {
        "id": "X05xqFS1yW16",
        "outputId": "0f5bc34f-6c08-4208-d6ab-dad5480c8b91",
        "colab": {
          "base_uri": "https://localhost:8080/"
        }
      },
      "execution_count": 64,
      "outputs": [
        {
          "output_type": "stream",
          "name": "stdout",
          "text": [
            "Enter the numerator of the first fraction5\n",
            "Enter the denominator of the first fraction2\n",
            "Enter the numerator of the second fraction8\n",
            "Enter the denominator of the second fraction6\n",
            "3.8333333333333335\n"
          ]
        }
      ]
    },
    {
      "cell_type": "markdown",
      "source": [
        "### Q10:- Given the height, width and breadth of a milk tank, you have to find out how many glasses of milk can be obtained? Assume all the inputs are provided by the user.\n",
        "\n",
        "\n",
        "\n",
        "Input:<br>\n",
        "Dimensions of the milk tank<br>\n",
        "H = 20cm, L = 20cm, B = 20cm\n",
        "<br><br>\n",
        "Dimensions of the glass<br>\n",
        "h = 3cm, r = 1cm"
      ],
      "metadata": {
        "id": "eaql38ln13u7"
      }
    },
    {
      "cell_type": "code",
      "source": [
        "# Write your code here\n",
        "# all the values in the cm's\n",
        "\n",
        "H = 20\n",
        "L = 20\n",
        "B = 20\n",
        "volume_of_tank = H*L*B\n",
        "# glass\n",
        "h = 3\n",
        "r = 1\n",
        "pie = 3.14\n",
        "\n",
        "volume_of_glass = pie*(r**2 ) *h\n",
        "\n",
        "glasses_filled = int(volume_of_tank//volume_of_glass)\n",
        "print(f'the number of glass filled is {glasses_filled}')\n"
      ],
      "metadata": {
        "id": "FePZqno74eWv",
        "outputId": "fe8d2cb9-a618-4d9d-d7d6-a34ad9f3abf1",
        "colab": {
          "base_uri": "https://localhost:8080/"
        }
      },
      "execution_count": 82,
      "outputs": [
        {
          "output_type": "stream",
          "name": "stdout",
          "text": [
            "the number of glass filled is 849\n"
          ]
        }
      ]
    },
    {
      "cell_type": "code",
      "source": [],
      "metadata": {
        "id": "jBcWot2wMH5N"
      },
      "execution_count": null,
      "outputs": []
    }
  ]
}