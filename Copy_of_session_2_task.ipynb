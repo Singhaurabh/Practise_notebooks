{
  "cells": [
    {
      "cell_type": "markdown",
      "metadata": {
        "id": "w6RlOAXV2PWh"
      },
      "source": [
        "### `Problem 1`: Write a program that will give you in hand monthly ctc after deduction on CTC - HRA(10%), DA(5%), PF(3%) and taxes deduction as below:\n",
        "\n",
        "> ctc(Lakhs) : Tax(%)\n",
        "\n",
        "*   Below 5 : 0%\n",
        "*   5-10 : 10%\n",
        "*   10-20 : 20%\n",
        "*   aboove 20 : 30%"
      ]
    },
    {
      "cell_type": "code",
      "execution_count": 1,
      "metadata": {
        "colab": {
          "base_uri": "https://localhost:8080/"
        },
        "id": "7tMHvKYO2etI",
        "outputId": "ebac544c-4964-4f61-98cc-ba4b97aab7b9"
      },
      "outputs": [
        {
          "output_type": "stream",
          "name": "stdout",
          "text": [
            "Enter your annual salary: 250000\n",
            "205000.0\n"
          ]
        }
      ],
      "source": [
        "# Write code here\n",
        "ctc = int(input(\"Enter your annual salary: \"))\n",
        "if(ctc<500000):\n",
        "  salary = ctc*0.82\n",
        "elif(ctc<1000000 and ctc>500000):\n",
        "  salary = ctc*0.72\n",
        "elif(ctc<2000000 and ctc>1000000):\n",
        "  salary = ctc*0.62\n",
        "elif(ctc<2000000):\n",
        "  salary = ctc*0.52\n",
        "\n",
        "print(salary)\n"
      ]
    },
    {
      "cell_type": "markdown",
      "metadata": {
        "id": "tYzCGqwl2hfN"
      },
      "source": [
        "### `Problem 2`: Write a program that take a user input of three angles and will find out whether it can form a triangle or not."
      ]
    },
    {
      "cell_type": "code",
      "execution_count": 2,
      "metadata": {
        "colab": {
          "base_uri": "https://localhost:8080/"
        },
        "id": "FYEqln-I2kxV",
        "outputId": "fc02969a-45a2-43df-b9ac-bd54910b4d41"
      },
      "outputs": [
        {
          "output_type": "stream",
          "name": "stdout",
          "text": [
            "enter the first angle of the triangle : 25\n",
            "enter the second angle of the triangle : 45\n",
            "enter the third angle of the triangle : 89\n",
            "Not a triangle\n"
          ]
        }
      ],
      "source": [
        "# Write code here\n",
        "first_angle = int(input(\"enter the first angle of the triangle : \"))\n",
        "second_angle = int(input(\"enter the second angle of the triangle : \"))\n",
        "third_angle = int(input(\"enter the third angle of the triangle : \"))\n",
        "if(first_angle+second_angle+third_angle == 180 and first_angle>0 and second_angle>0 and third_angle>0):\n",
        "  print(\"triangle\")\n",
        "else:\n",
        "  print(\"Not a triangle\")\n"
      ]
    },
    {
      "cell_type": "markdown",
      "metadata": {
        "id": "5vEpPh8C2pE4"
      },
      "source": [
        "### `Problem 3`: Write a program that will take user input of cost price and selling price and determines whether its a loss or a profit."
      ]
    },
    {
      "cell_type": "code",
      "execution_count": null,
      "metadata": {
        "colab": {
          "base_uri": "https://localhost:8080/"
        },
        "id": "jDwBXlkO2sfl",
        "outputId": "7c620e52-59b6-4ec0-9c84-4c1610b9215d"
      },
      "outputs": [
        {
          "name": "stdout",
          "output_type": "stream",
          "text": [
            "enter the cost of the product7890\n"
          ]
        }
      ],
      "source": [
        "# Write code here\n",
        "cp = int(input(\"enter the cost of the product\"))\n",
        "sp = int(input(\"Enter the selling price of the product\"))\n",
        "if(sp>cp):\n",
        "  print(\"profit of\",sp-cp)\n",
        "else:\n",
        "  print('loss of: ',sp-cp)"
      ]
    },
    {
      "cell_type": "markdown",
      "metadata": {
        "id": "J_FG_cJW2ugT"
      },
      "source": [
        "### `Problem 4`: Write a menu-driven program -\n",
        "1. cm to ft\n",
        "2. km to miles\n",
        "3. USD to INR\n",
        "4. exit"
      ]
    },
    {
      "cell_type": "code",
      "execution_count": null,
      "metadata": {
        "id": "yBHhaCGQ2zpD"
      },
      "outputs": [],
      "source": [
        "# Write code here\n",
        "\n",
        "def menu():\n",
        "    user_input = int(input(\"\"\"Welcome\n",
        "    1.convert cm to ft\n",
        "    2.Km to miles\n",
        "    3. Usd to Inr\n",
        "    4.exit\n",
        "    \"\"\"))\n",
        "    if(user_input ==1):\n",
        "      user_input_in_cm = int(input(\"Enter your value in cm\"))\n",
        "      Cm = user_input_in_cm\n",
        "      ft = (Cm * 0.393701)\n",
        "      print(ft)\n",
        "    elif(user_input ==2):\n",
        "      user_input_in_Km = int(input(\"Enter your value in Km\"))\n",
        "      Km = user_input_in_Km\n",
        "      miles = (Km *0.621371)\n",
        "      print(miles)\n",
        "\n",
        "    elif(user_input==3):\n",
        "      user_input_in_usd = float(input(\"Enter your value in usd\"))\n",
        "      usd = user_input_in_usd\n",
        "      INR = (usd *82)\n",
        "      print(INR)\n",
        "    else:\n",
        "      print(\"Sorry for inconvinence we are currently working only in the domains that are shown in the menu chart\")\n",
        "\n",
        "\n",
        "\n",
        "menu_driven_program = menu()\n",
        "print(menu_driven_program)"
      ]
    },
    {
      "cell_type": "markdown",
      "metadata": {
        "id": "LJJ30_Yw27ZU"
      },
      "source": [
        "### `Problem 5` - Exercise 12: Display Fibonacci series up to 10 terms.\n",
        "\n",
        "*Note: The Fibonacci Sequence is a series of numbers. The next number is found by adding up the two numbers before it. The first two numbers are 0 and 1. For example, 0, 1, 1, 2, 3, 5, 8, 13, 21. The next number in this series above is 13+21 = 34*"
      ]
    },
    {
      "cell_type": "code",
      "execution_count": null,
      "metadata": {
        "id": "ae_1rpe52-5R"
      },
      "outputs": [],
      "source": [
        "# Write code here\n",
        "fib_sum =0\n",
        "for i in range(10):\n",
        " fib_sum = (i-1) + fib_sum\n",
        "\n",
        "print(fib_sum)"
      ]
    },
    {
      "cell_type": "markdown",
      "metadata": {
        "id": "pk_I_S4m3PT5"
      },
      "source": [
        "### `Problem 6` - Find the factorial of a given number.\n",
        "\n",
        "Write a program to use the loop to find the factorial of a given number.\n",
        "\n",
        "The factorial (symbol: `!`) means to multiply all whole numbers from the chosen number down to 1.\n",
        "\n",
        "For example: calculate the factorial of 5\n",
        "\n",
        "```bash\n",
        "5! = 5 × 4 × 3 × 2 × 1 = 120\n",
        "```\n",
        "\n",
        "Output:\n",
        "\n",
        "```bash\n",
        "120\n",
        "```"
      ]
    },
    {
      "cell_type": "code",
      "execution_count": null,
      "metadata": {
        "id": "lzXxHegx3Rkc"
      },
      "outputs": [],
      "source": [
        "# Write code here\n",
        "n = int(input())\n",
        "fact=1\n",
        "for i in range(1,n+1):\n",
        "  fact =  fact*i\n",
        "print(fact)"
      ]
    },
    {
      "cell_type": "markdown",
      "metadata": {
        "id": "-17IOi-g3UpU"
      },
      "source": [
        "### `Problem 7` - Reverse a given integer number.\n",
        "\n",
        "Example:\n",
        "\n",
        "`Input:`\n",
        "\n",
        "```bash\n",
        "76542\n",
        "```\n",
        "\n",
        "`Output:`\n",
        "\n",
        "```bash\n",
        "24567\n",
        "```"
      ]
    },
    {
      "cell_type": "code",
      "execution_count": null,
      "metadata": {
        "id": "wJwLpKCr3aVA"
      },
      "outputs": [],
      "source": [
        "# Write code here\n",
        "num = int(input(\"enter the number that you want to reverse\"))\n",
        "reverse =0\n",
        "rem=0\n",
        "while(num!=0):\n",
        "  rem = num%10\n",
        "  reverse = reverse*10+ rem\n",
        "  num  = num//10\n",
        "\n",
        "print(reverse)\n",
        "\n"
      ]
    },
    {
      "cell_type": "markdown",
      "metadata": {
        "id": "-t8PJQaY3sHf"
      },
      "source": [
        "### `Problem 8`: Take a user input as integer N. Find out the sum from 1 to N. If any number if divisible by 5, then skip that number. And if the sum is greater than 300, don't need to calculate the sum further more. Print the final result. And don't use for loop to solve this problem.\n",
        "\n",
        "**Example 1:**\n",
        "\n",
        "`Input:`\n",
        "\n",
        "```bash\n",
        "30\n",
        "```\n",
        "\n",
        "`Output:`\n",
        "\n",
        "```bash\n",
        "276\n",
        "```"
      ]
    },
    {
      "cell_type": "code",
      "execution_count": null,
      "metadata": {
        "id": "GZB6mGMP3ujT"
      },
      "outputs": [],
      "source": [
        "# Write code here\n",
        "num = int(input(\"Enter the number: \"))\n",
        "sum = 0\n",
        "i =1\n",
        "while i< (num+1):\n",
        "\n",
        "  if(i%5==0):\n",
        "     continue\n",
        "  sum +=i\n",
        "  if(sum>300):\n",
        "    sum-=i\n",
        "    break\n",
        "\n",
        "  i+=1\n",
        "\n",
        "print(sum)\n"
      ]
    },
    {
      "cell_type": "markdown",
      "metadata": {
        "id": "Q7ggImeA3xm4"
      },
      "source": [
        "### `Problem 9`: Write a program that keeps on accepting a number from the user until the user enters Zero. Display the sum and average of all the numbers."
      ]
    },
    {
      "cell_type": "code",
      "execution_count": null,
      "metadata": {
        "id": "t_YDSZDe4Kdo"
      },
      "outputs": [],
      "source": [
        "# Write code here\n",
        "sum =0\n",
        "count =0\n",
        "while True:\n",
        "  num = int(input(\"Enter the number\"))\n",
        "  if(num == 0):\n",
        "    break\n",
        "  sum = sum+num\n",
        "  count +=1\n",
        "\n",
        "print(sum,'sum')\n",
        "print(sum/count,'avg')\n",
        "\n"
      ]
    },
    {
      "cell_type": "markdown",
      "metadata": {
        "id": "6EhvEMvm4R7s"
      },
      "source": [
        "###`Problem 9`: Write a program which will find all such numbers which are divisible by 7 but are not a multiple of 5, between 2000 and 3200 (both included). The numbers obtained should be printed in a comma-separated sequence on a single line."
      ]
    },
    {
      "cell_type": "code",
      "execution_count": null,
      "metadata": {
        "id": "d6RgP1B34T6c"
      },
      "outputs": [],
      "source": [
        "1# Write code here\n",
        "L = []\n",
        "for i in range(2000,3200):\n",
        "  if(i%7==0 and i%5!=0):\n",
        "    L.append(str(i))\n",
        "\n",
        "\n",
        "\n",
        "print(','.join(L))"
      ]
    },
    {
      "cell_type": "markdown",
      "metadata": {
        "id": "tYvmRR-G4Vp4"
      },
      "source": [
        "###`Problem 10`: Write a program, which will find all such numbers between 1000 and 3000 (both included) such that each digit of the number is an even number. The numbers obtained should be printed in a space-separated sequence on a single line.\n",
        "\n"
      ]
    },
    {
      "cell_type": "code",
      "execution_count": null,
      "metadata": {
        "colab": {
          "background_save": true
        },
        "id": "k6Gs1kIf4k19"
      },
      "outputs": [],
      "source": [
        "# Write code here\n",
        "l = []\n",
        "for i in range(1000)\n"
      ]
    },
    {
      "cell_type": "markdown",
      "metadata": {
        "id": "GV18IINT4mf5"
      },
      "source": [
        "###`Problem 11`: A robot moves in a plane starting from the original point (0,0). The robot can move toward UP, DOWN, LEFT and RIGHT with a given steps.\n",
        "The trace of robot movement is shown as the following:\n",
        "```\n",
        "UP 5\n",
        "DOWN 3\n",
        "LEFT 3\n",
        "RIGHT 2\n",
        "!\n",
        "```\n",
        "> The numbers after the direction are steps.\n",
        "\n",
        "> `!` means robot stop there.\n",
        "\n",
        "**Please write a program to compute the distance from current position after a sequence of movement and original point.**\n",
        "\n",
        "*If the distance is a float, then just print the nearest integer.*\n",
        "\n",
        "Example:\n",
        "\n",
        "`Input`:\n",
        "```\n",
        "UP 5\n",
        "DOWN 3\n",
        "LEFT 3\n",
        "RIGHT 2\n",
        "!\n",
        "```\n",
        "`Output`:\n",
        "```\n",
        "2\n",
        "```"
      ]
    },
    {
      "cell_type": "code",
      "execution_count": null,
      "metadata": {
        "id": "6UNMC2aR4w5x"
      },
      "outputs": [],
      "source": [
        "# Write code he(re\n",
        "#initial positions are:\n",
        "UP  = 5\n",
        "DOWN  = 3\n",
        "LEFT  = 3\n",
        "RIGHT  = 2\n",
        "x1 = 0\n",
        "y1 = 0\n",
        "y2 = UP - DOWN\n",
        "x2 = RIGHT - LEFT\n",
        "\n",
        "distance = 0.5*((x2-x1)**2 + (y2-y1)**2)\n",
        "print(round(distance),f\"{' - the distance from current position after a sequence of movement and original point.'}\")"
      ]
    },
    {
      "cell_type": "markdown",
      "metadata": {
        "id": "3fsAIAhK5GYY"
      },
      "source": [
        "###`Problem 12`:Write a program to print whether a given number is a prime number or not"
      ]
    },
    {
      "cell_type": "code",
      "execution_count": null,
      "metadata": {
        "id": "j6y91lxy5LZs"
      },
      "outputs": [],
      "source": [
        "# Write code here\n",
        "num = int(input(\"Enter the number for cheking the given number is prime or not\"))\n",
        "for i in range(2,num):\n",
        "  if(num%i == 0):\n",
        "    print(\"the number is not a prime number\")\n",
        "    break\n",
        "  else:\n",
        "    print(\"the number you entered is prime number\",i)\n",
        "    break"
      ]
    },
    {
      "cell_type": "markdown",
      "metadata": {
        "id": "asAbmbK-5NHv"
      },
      "source": [
        "###`Problem 13`:Print all the Armstrong numbers in a given range.\n",
        "Range will be provided by the user<br>\n",
        "Armstrong number is a number that is equal to the sum of cubes of its digits. For example 0, 1, 153, 370, 371 and 407 are the Armstrong numbers."
      ]
    },
    {
      "cell_type": "code",
      "execution_count": null,
      "metadata": {
        "id": "PZuI67pm5jCT"
      },
      "outputs": [],
      "source": [
        "# Write code here\n",
        "rng = int(input(\"enter the number: \"))\n",
        "num =rng\n",
        "sum =0\n",
        "temp = num\n",
        "while temp>0:\n",
        "  digit = temp%10\n",
        "  sum+= digit**3\n",
        "  temp//=10\n",
        "\n",
        "if num == sum:\n",
        "  print(\"the given number is the armstrong number: \")\n",
        "else:\n",
        "  print(\"the given number is not the armstrong number: \")\n"
      ]
    },
    {
      "cell_type": "markdown",
      "metadata": {
        "id": "ClCQZMqT7gK0"
      },
      "source": [
        "###`Problem 14`:Calculate the angle between the hour hand and minute hand.\n",
        "\n",
        "Note: There can be two angles between hands; we need to print a minimum of two. Also, we need to print the floor of the final result angle. For example, if the final angle is 10.61, we need to print 10.\n",
        "\n",
        "Input:<br>\n",
        "H = 9 , M = 0<br>\n",
        "Output:<br>\n",
        "90<br>\n",
        "Explanation:<br>\n",
        "The minimum angle between hour and minute\n",
        "hand when the time is 9 is 90 degress."
      ]
    },
    {
      "cell_type": "code",
      "execution_count": null,
      "metadata": {
        "id": "tNBTCZML7jy_"
      },
      "outputs": [],
      "source": [
        "#solve after watching the video of the nitish"
      ]
    },
    {
      "cell_type": "markdown",
      "metadata": {
        "id": "GwacF9Co72Qc"
      },
      "source": [
        "###`Problem 15`:Given two rectangles, find if the given two rectangles overlap or not. A rectangle is denoted by providing the x and y coordinates of two points: the left top corner and the right bottom corner of the rectangle. Two rectangles sharing a side are considered overlapping. (L1 and R1 are the extreme points of the first rectangle and L2 and R2 are the extreme points of the second rectangle).\n",
        "\n",
        "Note: It may be assumed that the rectangles are parallel to the coordinate axis.\n",
        "\n",
        "<img src='https://www.geeksforgeeks.org/wp-content/uploads/rectanglesOverlap.png' width='300' height='200'>"
      ]
    },
    {
      "cell_type": "code",
      "execution_count": null,
      "metadata": {
        "id": "6rrw_lpH78Rs"
      },
      "outputs": [],
      "source": [
        "# Write code here\n",
        "#I don't undersstand this problem clearly\n"
      ]
    }
  ],
  "metadata": {
    "colab": {
      "provenance": []
    },
    "kernelspec": {
      "display_name": "Python 3",
      "name": "python3"
    },
    "language_info": {
      "name": "python"
    }
  },
  "nbformat": 4,
  "nbformat_minor": 0
}